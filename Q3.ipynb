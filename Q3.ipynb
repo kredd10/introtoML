{
 "cells": [
  {
   "cell_type": "markdown",
   "metadata": {},
   "source": [
    "**Q3. Problem 3 (25 Points): Implementing Label Propagation with Self-Training**\n",
    "\n",
    "In this problem, we will incorporate self-training into label propagation (using energy minimization) to classify handwritten digits.\n",
    "\n",
    "We start by learning a label propagation model with only 10 labeled points, then we select the top 5 most confident points to label. Next, we train with 15 labeled points (original 10 + 5 new ones). We repeat this process 4 times to have a model trained with 30 labeled examples. \n",
    "\n",
    "Please report accuracy and confusion matrix after learning each model.\n",
    "\n"
   ]
  },
  {
   "cell_type": "markdown",
   "metadata": {},
   "source": [
    "The sample code to load the digit dataset is as follows:"
   ]
  },
  {
   "cell_type": "code",
   "execution_count": 1,
   "metadata": {},
   "outputs": [],
   "source": [
    "import numpy as np\n",
    "from sklearn import datasets\n",
    "\n",
    "digits = datasets.load_digits()\n",
    "rng = np.random.RandomState(0)\n",
    "indices = np.arange(len(digits.data))\n",
    "rng.shuffle(indices)\n",
    "\n",
    "X = digits.data[indices[:330]]\n",
    "y = digits.target[indices[:330]]\n",
    "images = digits.images[indices[:330]]\n",
    "n_total_samples = len(y)\n",
    "n_labeled_points = 10"
   ]
  },
  {
   "cell_type": "markdown",
   "metadata": {},
   "source": [
    "Displaying the given code"
   ]
  },
  {
   "cell_type": "code",
   "execution_count": 2,
   "metadata": {},
   "outputs": [
    {
     "data": {
      "image/png": "[encoded data removed]",
      "text/plain": [
       "<Figure size 1500x400 with 10 Axes>"
      ]
     },
     "metadata": {},
     "output_type": "display_data"
    }
   ],
   "source": [
    "import matplotlib.pyplot as plt\n",
    "# Display the first 10 images and their labels\n",
    "fig, axes = plt.subplots(1, 10, figsize=(15, 4))\n",
    "for i, ax in enumerate(axes):\n",
    "    ax.imshow(images[i], cmap='gray')\n",
    "    ax.set_title(f'Label: {y[i]}')\n",
    "    ax.axis('off')\n",
    "\n",
    "plt.suptitle('First 10 Digits from the Dataset with Labels')\n",
    "plt.show()"
   ]
  },
  {
   "cell_type": "markdown",
   "metadata": {},
   "source": [
    "Creating a label propagation model"
   ]
  },
  {
   "cell_type": "code",
   "execution_count": 3,
   "metadata": {},
   "outputs": [
    {
     "name": "stderr",
     "output_type": "stream",
     "text": [
      "c:\\Users\\manir\\AppData\\Local\\Programs\\Python\\Python311\\Lib\\site-packages\\sklearn\\semi_supervised\\_label_propagation.py:322: ConvergenceWarning: max_iter=1000 was reached without convergence.\n",
      "  warnings.warn(\n",
      "c:\\Users\\manir\\AppData\\Local\\Programs\\Python\\Python311\\Lib\\site-packages\\sklearn\\semi_supervised\\_label_propagation.py:322: ConvergenceWarning: max_iter=1000 was reached without convergence.\n",
      "  warnings.warn(\n",
      "c:\\Users\\manir\\AppData\\Local\\Programs\\Python\\Python311\\Lib\\site-packages\\sklearn\\semi_supervised\\_label_propagation.py:322: ConvergenceWarning: max_iter=1000 was reached without convergence.\n",
      "  warnings.warn(\n"
     ]
    },
    {
     "name": "stdout",
     "output_type": "stream",
     "text": [
      "Number of labeled points: 10\n",
      "Accuracy: 0.57\n",
      "Confusion matrix:\n",
      "[[ 0 24  0  0  0  0  0  0  0  0]\n",
      " [ 0  1  5  0  0  0  0  0 24  0]\n",
      " [ 0  0 31  0  0  0  0  2  0  0]\n",
      " [ 0  0  1  0  0  0 27  0  0  0]\n",
      " [ 0  0  0  0  0  0  0 27  0  0]\n",
      " [ 0  0  0  0  0 14  0  0  0 22]\n",
      " [ 0  0  0  0  0  0 42  0  0  0]\n",
      " [ 0  0  0  0  0  0  0 37  0  0]\n",
      " [ 0  0  0  0  0  0  2  0 33  0]\n",
      " [ 0  0  0  0  0  3  0  3  1 31]]\n",
      "\n",
      "Number of labeled points: 15\n",
      "Accuracy: 0.58\n",
      "Confusion matrix:\n",
      "[[ 0 24  0  0  0  0  0  0  0  0]\n",
      " [ 0  1  5  0  0  0  0  0 24  0]\n",
      " [ 0  0 31  0  0  0  0  2  0  0]\n",
      " [ 0  0  1  0  0  0 27  0  0  0]\n",
      " [ 0  0  0  0  0  0  0 27  0  0]\n",
      " [ 0  0  0  0  0 14  0  0  0 22]\n",
      " [ 0  0  0  0  0  0 42  0  0  0]\n",
      " [ 0  0  0  0  0  0  0 37  0  0]\n",
      " [ 0  0  0  0  0  0  1  0 34  0]\n",
      " [ 0  0  0  0  0  3  0  3  1 31]]\n",
      "\n",
      "Number of labeled points: 20\n",
      "Accuracy: 0.72\n",
      "Confusion matrix:\n",
      "[[24  0  0  0  0  0  0  0  0  0]\n",
      " [ 0 14  5  0  0  0  0  0 11  0]\n",
      " [ 1  0 30  0  0  0  0  2  0  0]\n",
      " [ 0  0  1  0  0  0 25  0  2  0]\n",
      " [ 0  0  0  0  0  0  0 27  0  0]\n",
      " [ 0  0  0  0  0 25  0  0  0 11]\n",
      " [ 0  0  0  0  0  0 42  0  0  0]\n",
      " [ 0  0  0  0  0  0  0 37  0  0]\n",
      " [ 0  0  0  0  0  0  1  0 34  0]\n",
      " [ 1  2  0  0  0  3  0  1  1 30]]\n",
      "\n",
      "Number of labeled points: 25\n",
      "Accuracy: 0.79\n",
      "Confusion matrix:\n",
      "[[24  0  0  0  0  0  0  0  0  0]\n",
      " [ 0 14  5  0  0  0  0  0 11  0]\n",
      " [ 1  0 30  0  0  0  0  2  0  0]\n",
      " [ 0  0  1  0  0  0 23  0  4  0]\n",
      " [ 0  0  0  0 26  0  0  1  0  0]\n",
      " [ 0  0  0  0  0 25  0  0  0 11]\n",
      " [ 0  0  0  0  0  0 42  0  0  0]\n",
      " [ 0  0  0  0  0  0  0 37  0  0]\n",
      " [ 0  0  0  0  0  0  1  0 34  0]\n",
      " [ 1  2  0  0  0  2  0  2  1 30]]\n",
      "\n",
      "Number of labeled points: 30\n",
      "Accuracy: 0.80\n",
      "Confusion matrix:\n",
      "[[24  0  0  0  0  0  0  0  0  0]\n",
      " [ 0 14  5  0  0  0  0  0 11  0]\n",
      " [ 1  0 30  0  0  0  0  2  0  0]\n",
      " [ 0  0  1  0  0  0  0  0  0 27]\n",
      " [ 0  0  0  0 26  0  0  1  0  0]\n",
      " [ 0  0  0  0  0 25  0  0  0 11]\n",
      " [ 0  0  0  0  0  0 42  0  0  0]\n",
      " [ 0  0  0  0  0  0  0 37  0  0]\n",
      " [ 0  0  0  0  0  0  1  0 34  0]\n",
      " [ 1  1  0  0  1  3  0  0  0 32]]\n",
      "\n"
     ]
    },
    {
     "name": "stderr",
     "output_type": "stream",
     "text": [
      "c:\\Users\\manir\\AppData\\Local\\Programs\\Python\\Python311\\Lib\\site-packages\\sklearn\\semi_supervised\\_label_propagation.py:322: ConvergenceWarning: max_iter=1000 was reached without convergence.\n",
      "  warnings.warn(\n"
     ]
    }
   ],
   "source": [
    "from sklearn.semi_supervised import LabelPropagation\n",
    "from sklearn.metrics import accuracy_score, confusion_matrix\n",
    "\n",
    "\n",
    "# Initialize variables for storing results\n",
    "learning = []\n",
    "\n",
    "for iteration in range(5):\n",
    "    # Creating the label propagation model\n",
    "    model = LabelPropagation(kernel='knn', n_neighbors=7) # using knn kernel, instead of gaussian\n",
    "    \n",
    "    # Use only the first n_labeled_points for training, the rest are all unlabeled\n",
    "    unlabeled_idx = np.arange(n_total_samples)[n_labeled_points:]\n",
    "    y_train = np.copy(y)\n",
    "    y_train[unlabeled_idx] = -1  # Unlabeled data is marked as -1\n",
    "    \n",
    "    # Fit the model with the currently labeled points\n",
    "    model.fit(X, y_train)\n",
    "    \n",
    "    # Predict labels for the entire dataset\n",
    "    y_pred = model.transduction_\n",
    "    \n",
    "    # Calculate accuracy and confusion matrix\n",
    "    acc = accuracy_score(y, y_pred)\n",
    "    conf_matrix = confusion_matrix(y, y_pred)\n",
    "    \n",
    "    # Append results to the list\n",
    "    learning.append((n_labeled_points, acc, conf_matrix))\n",
    "    \n",
    "    # Calculating the uncertainty\n",
    "    epsilon = 1e-100  # Small value to avoid log(0)\n",
    "    probs = model.label_distributions_[unlabeled_idx] + epsilon\n",
    "    uncertainty = -np.sum(probs * np.log(probs), axis=1)\n",
    "    most_uncertain = np.argsort(uncertainty)[-5:]\n",
    "    most_uncertain_idx = unlabeled_idx[most_uncertain]\n",
    "    \n",
    "    # Select the top 5 most confident points to label and update the number of labeled points\n",
    "    n_labeled_points += 5\n",
    "    unlabeled_idx = np.setdiff1d(unlabeled_idx, most_uncertain_idx)\n",
    "    # Update the labels for the most uncertain points\n",
    "    for idx in most_uncertain_idx:\n",
    "        y_train[idx] = y[idx]  # Assign the true label to the most uncertain points\n",
    "\n",
    "    # Updating the list of unlabeled indices\n",
    "    unlabeled_idx = np.setdiff1d(unlabeled_idx, most_uncertain_idx)\n",
    "\n",
    "# Print the results for each iteration\n",
    "for n, accuracy, confusion in learning:\n",
    "    print(f\"Number of labeled points: {n}\")\n",
    "    print(f\"Accuracy: {accuracy:.2f}\")\n",
    "    print(\"Confusion matrix:\")\n",
    "    print(confusion)\n",
    "    print()"
   ]
  },
  {
   "cell_type": "markdown",
   "metadata": {},
   "source": [
    "Reference : https://scikit-learn.org/dev/modules/generated/sklearn.semi_supervised.LabelPropagation.html"
   ]
  }
 ],
 "metadata": {
  "kernelspec": {
   "display_name": "Python 3",
   "language": "python",
   "name": "python3"
  },
  "language_info": {
   "codemirror_mode": {
    "name": "ipython",
    "version": 3
   },
   "file_extension": ".py",
   "mimetype": "text/x-python",
   "name": "python",
   "nbconvert_exporter": "python",
   "pygments_lexer": "ipython3",
   "version": "3.11.5"
  }
 },
 "nbformat": 4,
 "nbformat_minor": 2
}
